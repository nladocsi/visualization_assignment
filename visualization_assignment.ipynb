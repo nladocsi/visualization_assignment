{
  "cells": [
    {
      "cell_type": "markdown",
      "metadata": {
        "id": "view-in-github",
        "colab_type": "text"
      },
      "source": [
        "<a href=\"https://colab.research.google.com/github/nladocsi/visualization_assignment/blob/main/visualization_assignment.ipynb\" target=\"_parent\"><img src=\"https://colab.research.google.com/assets/colab-badge.svg\" alt=\"Open In Colab\"/></a>"
      ]
    },
    {
      "cell_type": "markdown",
      "id": "13ad028b-72b7-43ed-aa78-96fd4e518040",
      "metadata": {
        "id": "13ad028b-72b7-43ed-aa78-96fd4e518040"
      },
      "source": [
        "# Assignment: Visualization\n",
        "### `! git clone https://github.com/ds3001f25/visualization_assignment.git`\n",
        "### Do Q1 and Q2."
      ]
    },
    {
      "cell_type": "markdown",
      "id": "ea89b847",
      "metadata": {
        "id": "ea89b847"
      },
      "source": [
        "**Q1.** Write your own function to make a kernel density plot.\n",
        "\n",
        "- The user should pass in a Pandas series or Numpy array.\n",
        "- The default kernel should be Gaussian, but include the uniform/bump and Epanechnikov as alternatives.\n",
        "- The default bandwidth should be the Silverman plug-in, but allow the user to specify an alternative.\n",
        "- You can use Matplotlib or Seaborn's `.lineplot`, but not an existing function that creates kernel density plots.\n",
        "\n",
        "You will have to make a lot of choices and experiment with getting errors. Embrace the challenge and track your choices in the comments in your code.\n",
        "\n",
        "Use the pretrail data set from class to show that your function works, and compare it with the Seaborn `kdeplot`.\n",
        "\n",
        "We covered the Gaussian,\n",
        "$$\n",
        "k(z) = \\dfrac{1}{\\sqrt{2\\pi}}e^{-z^2/2}\n",
        "$$\n",
        "and uniform\n",
        "$$\n",
        "k(z) = \\begin{cases}\n",
        "\\frac{1}{2}, & |z| \\le 1 \\\\\n",
        "0, & |z|>1\n",
        "\\end{cases}\n",
        "$$\n",
        "kernels in class, but the Epanechnikov kernel is\n",
        "$$\n",
        "k(z) = \\begin{cases}\n",
        "\\frac{3}{4} (1-z^2), & |z| \\le 1 \\\\\n",
        "0, & |z|>1.\n",
        "\\end{cases}\n",
        "$$\n",
        "\n",
        "In order to make your code run reasonably quickly, consider using the `pdist` or `cdist` functions from SciPy to make distance calculations for arrays of points. The other leading alternative is to thoughtfully use NumPy's broadcasting features. Writing `for` loops will be slow, but that's fine."
      ]
    },
    {
      "cell_type": "code",
      "execution_count": 12,
      "id": "3a40fb07",
      "metadata": {
        "id": "3a40fb07"
      },
      "outputs": [],
      "source": [
        "import numpy as np\n",
        "import pandas as pd\n",
        "import matplotlib.pyplot as plt\n",
        "import seaborn as sns"
      ]
    },
    {
      "cell_type": "code",
      "source": [
        "#Load data:\n",
        "pt = pd.read_csv('pretrial_data.csv')\n",
        "x = pt['age']\n",
        "x = x[ x.isna()==False ].sample(50, random_state=10)\n",
        "x= x.to_numpy()\n",
        "\n",
        "#Stats on age:\n",
        "N = len(x)\n",
        "sd = np.std(x)\n",
        "min_x = min(x)\n",
        "max_x = max(x)"
      ],
      "metadata": {
        "id": "MrvQu7DXJTbB"
      },
      "id": "MrvQu7DXJTbB",
      "execution_count": null,
      "outputs": []
    },
    {
      "cell_type": "code",
      "source": [
        "#Establish Silverman's plug-in Estimate:\n",
        "#h = 1.06 * sd * N**(-1/5)"
      ],
      "metadata": {
        "id": "8GrkgiLnY4nS"
      },
      "id": "8GrkgiLnY4nS",
      "execution_count": null,
      "outputs": []
    },
    {
      "cell_type": "code",
      "source": [
        "M = 500\n",
        "grid = np.linspace(min_x-2*sd, max_x+2*sd,M)"
      ],
      "metadata": {
        "id": "bnaF_GXbQ_ae"
      },
      "id": "bnaF_GXbQ_ae",
      "execution_count": null,
      "outputs": []
    },
    {
      "cell_type": "code",
      "source": [
        "def kernel_density(x, bandwidth=None, kernel='gaussian', M=500):\n",
        "  if bandwidth is None:\n",
        "    bandwidth = 1.06 * np.std(x) * N**(-1/5)\n",
        "\n",
        "  grid = np.linspace(min(x) - 2*sd, max(x) + 2*sd, M)\n",
        "\n",
        "  def normal_kernel(center,bandwidth, grid):\n",
        "    return np.exp( -(( (grid-center)/bandwidth)**2)/2 ) / (bandwidth * np.sqrt(2*np.pi))\n",
        "\n",
        "  def epanechnikov_kernel(center, bandwidth, grid):\n",
        "    z = (grid-center)/bandwidth\n",
        "    k = 0.75 * (1-z**2)\n",
        "    k[np.abs(z)>1] = 0\n",
        "    return k / bandwidth\n",
        "\n",
        "  def uniform_kernel(center,bandwidth, grid):\n",
        "    a = (grid-center)/bandwidth\n",
        "    b = 0.5 * np.ones_like(a)\n",
        "    b[np.abs(a)>1] = 0\n",
        "    return b / bandwidth\n",
        "\n",
        "  kernels = {\n",
        "      \"gaussian\": normal_kernel,\n",
        "      \"uniform\": uniform_kernel,\n",
        "      \"epanechnikov\": epanechnikov_kernel\n",
        "  }\n",
        "\n",
        "  if kernel not in kernels:\n",
        "    raise ValueError(f\"Kernel must be one of {list(kernels.keys())}\")\n",
        "\n",
        "\n",
        "  kde = np.zeros_like(grid, dtype=float)\n",
        "  for xi in x:\n",
        "    kde += kernels[kernel](xi, bandwidth, grid)\n",
        "  kde /= N\n",
        "\n",
        "  return grid, kde\n"
      ],
      "metadata": {
        "id": "26PamoaOTXBf"
      },
      "id": "26PamoaOTXBf",
      "execution_count": null,
      "outputs": []
    },
    {
      "cell_type": "code",
      "source": [
        "#grid, kde = kernel_density(x)\n",
        "#sns.lineplot(x=grid,y=kde)"
      ],
      "metadata": {
        "id": "uCBQcQWmVRTe"
      },
      "id": "uCBQcQWmVRTe",
      "execution_count": null,
      "outputs": []
    },
    {
      "cell_type": "code",
      "source": [
        "#Check with seaborn\n",
        "fig = sns.kdeplot(x)\n",
        "fig.set(title=\"Seaborn's Kernel Density Plot\", xlabel='x', ylabel='$\\\\hat{f}(x)$')"
      ],
      "metadata": {
        "colab": {
          "base_uri": "https://localhost:8080/",
          "height": 526
        },
        "id": "Xn2UYyWCFYme",
        "outputId": "ca8d950c-480e-426d-be49-3508399cb053"
      },
      "id": "Xn2UYyWCFYme",
      "execution_count": null,
      "outputs": [
        {
          "output_type": "execute_result",
          "data": {
            "text/plain": [
              "[Text(0.5, 1.0, \"Seaborn's Kernel Density Plot\"),\n",
              " Text(0.5, 0, 'x'),\n",
              " Text(0, 0.5, '$\\\\hat{f}(x)$')]"
            ]
          },
          "metadata": {},
          "execution_count": 8
        },
        {
          "output_type": "display_data",
          "data": {
            "text/plain": [
              "<Figure size 640x480 with 1 Axes>"
            ],
            "image/png": "[encoded data removed]"
          },
          "metadata": {}
        }
      ]
    },
    {
      "cell_type": "markdown",
      "id": "55e54a37-63fb-4df9-af65-81ee53ae00fe",
      "metadata": {
        "id": "55e54a37-63fb-4df9-af65-81ee53ae00fe"
      },
      "source": [
        "**Q2.** This question provides some practice doing exploratory data analysis and visualization.\n",
        "\n",
        "The \"relevant\" variables for this question are:\n",
        "  - `level` - Level of institution (4-year, 2-year)\n",
        "  - `aid_value` - The average amount of student aid going to undergraduate recipients\n",
        "  - `control` - Public, Private not-for-profit, Private for-profit\n",
        "  - `grad_100_value` - percentage of first-time, full-time, degree-seeking undergraduates who complete a degree or certificate program within 100 percent of expected time (bachelor's-seeking group at 4-year institutions)\n",
        "\n",
        "1. Load the `./data/college_completion.csv` data with Pandas.\n",
        "2. What are are the dimensions of the data? How many observations are there? What are the variables included? Use `.head()` to examine the first few rows of data.\n",
        "3. Cross tabulate `control` and `level`. Describe the patterns you see.\n",
        "4. For `grad_100_value`, create a histogram, kernel density plot, boxplot, and statistical description.\n",
        "5. For `grad_100_value`, create a grouped kernel density plot by `control` and by `level`. Describe what you see. Use `groupby` and `.describe` to make grouped calculations of statistical descriptions of `grad_100_value` by `level` and `control`. Which institutions appear to have the best graduation rates?\n",
        "6. Create a new variable, `df['levelXcontrol']=df['level']+', '+df['control']` that interacts level and control. Make a grouped kernel density plot. Which institutions appear to have the best graduation rates?\n",
        "7. Make a kernel density plot of `aid_value`. Now group your graph by `level` and `control`. What explains the shape of the graph? Use `groupby` and `.describe` to make grouped calculations of statistical descriptions of `aid_value` by `level` and `control`.\n",
        "8. Make a scatterplot of `grad_100_value` by `aid_value`. Describe what you see. Now make the same plot, grouping by `level` and then `control`. Describe what you see. For which kinds of institutions does aid seem to increase graduation rates?"
      ]
    },
    {
      "cell_type": "code",
      "execution_count": 11,
      "id": "e92b5b79",
      "metadata": {
        "id": "e92b5b79"
      },
      "outputs": [],
      "source": [
        "#2.1\n",
        "cc = pd.read_csv('college_completion.csv')\n"
      ]
    },
    {
      "cell_type": "code",
      "source": [
        "#2.2\n",
        "print(\"College completion shape:\")\n",
        "print(cc.shape, '\\n')\n",
        "print('3798 observations', '\\n')\n",
        "print(\"College Completion variables:\")\n",
        "print(cc.columns, '\\n')\n",
        "\n",
        "print(cc.head())\n"
      ],
      "metadata": {
        "id": "T-1TyhW7gvm5",
        "outputId": "5a0f019e-1081-488e-a32c-e303867c4e1f",
        "colab": {
          "base_uri": "https://localhost:8080/"
        }
      },
      "id": "T-1TyhW7gvm5",
      "execution_count": 21,
      "outputs": [
        {
          "output_type": "stream",
          "name": "stdout",
          "text": [
            "College completion shape:\n",
            "(3798, 63) \n",
            "\n",
            "3798 observations \n",
            "\n",
            "College Completion variables:\n",
            "Index(['index', 'unitid', 'chronname', 'city', 'state', 'level', 'control',\n",
            "       'basic', 'hbcu', 'flagship', 'long_x', 'lat_y', 'site', 'student_count',\n",
            "       'awards_per_value', 'awards_per_state_value', 'awards_per_natl_value',\n",
            "       'exp_award_value', 'exp_award_state_value', 'exp_award_natl_value',\n",
            "       'exp_award_percentile', 'ft_pct', 'fte_value', 'fte_percentile',\n",
            "       'med_sat_value', 'med_sat_percentile', 'aid_value', 'aid_percentile',\n",
            "       'endow_value', 'endow_percentile', 'grad_100_value',\n",
            "       'grad_100_percentile', 'grad_150_value', 'grad_150_percentile',\n",
            "       'pell_value', 'pell_percentile', 'retain_value', 'retain_percentile',\n",
            "       'ft_fac_value', 'ft_fac_percentile', 'vsa_year',\n",
            "       'vsa_grad_after4_first', 'vsa_grad_elsewhere_after4_first',\n",
            "       'vsa_enroll_after4_first', 'vsa_enroll_elsewhere_after4_first',\n",
            "       'vsa_grad_after6_first', 'vsa_grad_elsewhere_after6_first',\n",
            "       'vsa_enroll_after6_first', 'vsa_enroll_elsewhere_after6_first',\n",
            "       'vsa_grad_after4_transfer', 'vsa_grad_elsewhere_after4_transfer',\n",
            "       'vsa_enroll_after4_transfer', 'vsa_enroll_elsewhere_after4_transfer',\n",
            "       'vsa_grad_after6_transfer', 'vsa_grad_elsewhere_after6_transfer',\n",
            "       'vsa_enroll_after6_transfer', 'vsa_enroll_elsewhere_after6_transfer',\n",
            "       'similar', 'state_sector_ct', 'carnegie_ct', 'counted_pct', 'nicknames',\n",
            "       'cohort_size'],\n",
            "      dtype='object') \n",
            "\n",
            "   index  unitid                            chronname        city    state  \\\n",
            "0      0  100654               Alabama A&M University      Normal  Alabama   \n",
            "1      1  100663  University of Alabama at Birmingham  Birmingham  Alabama   \n",
            "2      2  100690                   Amridge University  Montgomery  Alabama   \n",
            "3      3  100706  University of Alabama at Huntsville  Huntsville  Alabama   \n",
            "4      4  100724             Alabama State University  Montgomery  Alabama   \n",
            "\n",
            "    level                 control  \\\n",
            "0  4-year                  Public   \n",
            "1  4-year                  Public   \n",
            "2  4-year  Private not-for-profit   \n",
            "3  4-year                  Public   \n",
            "4  4-year                  Public   \n",
            "\n",
            "                                               basic hbcu flagship  ...  \\\n",
            "0  Masters Colleges and Universities--larger prog...    X      NaN  ...   \n",
            "1  Research Universities--very high research acti...  NaN      NaN  ...   \n",
            "2            Baccalaureate Colleges--Arts & Sciences  NaN      NaN  ...   \n",
            "3  Research Universities--very high research acti...  NaN      NaN  ...   \n",
            "4  Masters Colleges and Universities--larger prog...    X      NaN  ...   \n",
            "\n",
            "   vsa_grad_after6_transfer  vsa_grad_elsewhere_after6_transfer  \\\n",
            "0                      36.4                                 5.6   \n",
            "1                       NaN                                 NaN   \n",
            "2                       NaN                                 NaN   \n",
            "3                       0.0                                 0.0   \n",
            "4                       NaN                                 NaN   \n",
            "\n",
            "  vsa_enroll_after6_transfer  vsa_enroll_elsewhere_after6_transfer  \\\n",
            "0                       17.2                                  11.1   \n",
            "1                        NaN                                   NaN   \n",
            "2                        NaN                                   NaN   \n",
            "3                        0.0                                   0.0   \n",
            "4                        NaN                                   NaN   \n",
            "\n",
            "                                             similar  state_sector_ct  \\\n",
            "0  232937|100724|405997|113607|139533|144005|2285...               13   \n",
            "1  196060|180461|201885|145600|209542|236939|1268...               13   \n",
            "2  217925|441511|205124|247825|197647|221856|1353...               16   \n",
            "3  232186|133881|196103|196413|207388|171128|1900...               13   \n",
            "4  100654|232937|242617|243197|144005|241739|2354...               13   \n",
            "\n",
            "   carnegie_ct  counted_pct  nicknames  cohort_size  \n",
            "0          386      99.7|07        NaN        882.0  \n",
            "1          106      56.0|07        UAB       1376.0  \n",
            "2          252     100.0|07        NaN          3.0  \n",
            "3          106      43.1|07        UAH        759.0  \n",
            "4          386      88.0|07        ASU       1351.0  \n",
            "\n",
            "[5 rows x 63 columns]\n"
          ]
        }
      ]
    },
    {
      "cell_type": "markdown",
      "source": [
        "*   There are 3798 observations\n",
        "*   Dimensions 3798, 63\n",
        "*   There are a lot of variables included that can be seen above!\n",
        "\n",
        "\n",
        "\n"
      ],
      "metadata": {
        "id": "AQFYGR6Nhvqu"
      },
      "id": "AQFYGR6Nhvqu"
    }
  ],
  "metadata": {
    "colab": {
      "provenance": [],
      "name": "visualization_assignment.ipynb",
      "include_colab_link": true
    },
    "kernelspec": {
      "display_name": "Python 3 (ipykernel)",
      "language": "python",
      "name": "python3"
    },
    "language_info": {
      "codemirror_mode": {
        "name": "ipython",
        "version": 3
      },
      "file_extension": ".py",
      "mimetype": "text/x-python",
      "name": "python",
      "nbconvert_exporter": "python",
      "pygments_lexer": "ipython3",
      "version": "3.10.18"
    }
  },
  "nbformat": 4,
  "nbformat_minor": 5
}