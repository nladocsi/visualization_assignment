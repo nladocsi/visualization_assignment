{
  "cells": [
    {
      "cell_type": "markdown",
      "id": "13ad028b-72b7-43ed-aa78-96fd4e518040",
      "metadata": {
        "id": "13ad028b-72b7-43ed-aa78-96fd4e518040"
      },
      "source": [
        "# Assignment: Visualization\n",
        "### `! git clone https://github.com/ds3001f25/visualization_assignment.git`\n",
        "### Do Q1 and Q2."
      ]
    },
    {
      "cell_type": "markdown",
      "id": "ea89b847",
      "metadata": {
        "id": "ea89b847"
      },
      "source": [
        "**Q1.** Write your own function to make a kernel density plot.\n",
        "\n",
        "- The user should pass in a Pandas series or Numpy array.\n",
        "- The default kernel should be Gaussian, but include the uniform/bump and Epanechnikov as alternatives.\n",
        "- The default bandwidth should be the Silverman plug-in, but allow the user to specify an alternative.\n",
        "- You can use Matplotlib or Seaborn's `.lineplot`, but not an existing function that creates kernel density plots.\n",
        "\n",
        "You will have to make a lot of choices and experiment with getting errors. Embrace the challenge and track your choices in the comments in your code.\n",
        "\n",
        "Use the pretrail data set from class to show that your function works, and compare it with the Seaborn `kdeplot`.\n",
        "\n",
        "We covered the Gaussian,\n",
        "$$\n",
        "k(z) = \\dfrac{1}{\\sqrt{2\\pi}}e^{-z^2/2}\n",
        "$$\n",
        "and uniform\n",
        "$$\n",
        "k(z) = \\begin{cases}\n",
        "\\frac{1}{2}, & |z| \\le 1 \\\\\n",
        "0, & |z|>1\n",
        "\\end{cases}\n",
        "$$\n",
        "kernels in class, but the Epanechnikov kernel is\n",
        "$$\n",
        "k(z) = \\begin{cases}\n",
        "\\frac{3}{4} (1-z^2), & |z| \\le 1 \\\\\n",
        "0, & |z|>1.\n",
        "\\end{cases}\n",
        "$$\n",
        "\n",
        "In order to make your code run reasonably quickly, consider using the `pdist` or `cdist` functions from SciPy to make distance calculations for arrays of points. The other leading alternative is to thoughtfully use NumPy's broadcasting features. Writing `for` loops will be slow, but that's fine."
      ]
    },
    {
      "cell_type": "code",
      "execution_count": null,
      "id": "3a40fb07",
      "metadata": {
        "id": "3a40fb07"
      },
      "outputs": [],
      "source": []
    },
    {
      "cell_type": "markdown",
      "id": "55e54a37-63fb-4df9-af65-81ee53ae00fe",
      "metadata": {
        "id": "55e54a37-63fb-4df9-af65-81ee53ae00fe"
      },
      "source": [
        "**Q2.** This question provides some practice doing exploratory data analysis and visualization.\n",
        "\n",
        "The \"relevant\" variables for this question are:\n",
        "  - `level` - Level of institution (4-year, 2-year)\n",
        "  - `aid_value` - The average amount of student aid going to undergraduate recipients\n",
        "  - `control` - Public, Private not-for-profit, Private for-profit\n",
        "  - `grad_100_value` - percentage of first-time, full-time, degree-seeking undergraduates who complete a degree or certificate program within 100 percent of expected time (bachelor's-seeking group at 4-year institutions)\n",
        "\n",
        "1. Load the `./data/college_completion.csv` data with Pandas.\n",
        "2. What are are the dimensions of the data? How many observations are there? What are the variables included? Use `.head()` to examine the first few rows of data.\n",
        "3. Cross tabulate `control` and `level`. Describe the patterns you see.\n",
        "4. For `grad_100_value`, create a histogram, kernel density plot, boxplot, and statistical description.\n",
        "5. For `grad_100_value`, create a grouped kernel density plot by `control` and by `level`. Describe what you see. Use `groupby` and `.describe` to make grouped calculations of statistical descriptions of `grad_100_value` by `level` and `control`. Which institutions appear to have the best graduation rates?\n",
        "6. Create a new variable, `df['levelXcontrol']=df['level']+', '+df['control']` that interacts level and control. Make a grouped kernel density plot. Which institutions appear to have the best graduation rates?\n",
        "7. Make a kernel density plot of `aid_value`. Now group your graph by `level` and `control`. What explains the shape of the graph? Use `groupby` and `.describe` to make grouped calculations of statistical descriptions of `aid_value` by `level` and `control`.\n",
        "8. Make a scatterplot of `grad_100_value` by `aid_value`. Describe what you see. Now make the same plot, grouping by `level` and then `control`. Describe what you see. For which kinds of institutions does aid seem to increase graduation rates?"
      ]
    },
    {
      "cell_type": "code",
      "execution_count": null,
      "id": "e92b5b79",
      "metadata": {
        "id": "e92b5b79"
      },
      "outputs": [],
      "source": []
    }
  ],
  "metadata": {
    "colab": {
      "provenance": []
    },
    "kernelspec": {
      "display_name": "Python 3 (ipykernel)",
      "language": "python",
      "name": "python3"
    },
    "language_info": {
      "codemirror_mode": {
        "name": "ipython",
        "version": 3
      },
      "file_extension": ".py",
      "mimetype": "text/x-python",
      "name": "python",
      "nbconvert_exporter": "python",
      "pygments_lexer": "ipython3",
      "version": "3.10.18"
    }
  },
  "nbformat": 4,
  "nbformat_minor": 5
}